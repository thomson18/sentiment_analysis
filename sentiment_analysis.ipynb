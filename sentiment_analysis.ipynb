{
 "cells": [
  {
   "cell_type": "markdown",
   "id": "90b560e0",
   "metadata": {},
   "source": [
    "### Importing the libraries:\n",
    "We import the required libraries."
   ]
  },
  {
   "cell_type": "code",
   "execution_count": null,
   "id": "c01af948",
   "metadata": {},
   "outputs": [],
   "source": [
    "import pandas as pd\n",
    "import numpy as np\n",
    "import matplotlib.pyplot as plt\n",
    "import seaborn as sns\n",
    "from sklearn.model_selection import train_test_split\n",
    "from sklearn.feature_extraction.text import CountVectorizer, TfidfVectorizer\n",
    "from sklearn.naive_bayes import MultinomialNB\n",
    "from sklearn.linear_model import LogisticRegression\n",
    "from sklearn.metrics import *\n",
    "import nltk\n",
    "from nltk.corpus import stopwords\n",
    "from nltk.stem import WordNetLemmatizer\n",
    "from wordcloud import WordCloud\n",
    "import re\n",
    "import string\n",
    "from collections import Counter"
   ]
  },
  {
   "cell_type": "markdown",
   "id": "a5168bad",
   "metadata": {},
   "source": [
    "### Loading the dataset:\n",
    "We use the pandas library to load the csv dataset."
   ]
  },
  {
   "cell_type": "code",
   "execution_count": null,
   "id": "584df8ab",
   "metadata": {},
   "outputs": [],
   "source": [
    "data = pd.read_csv('sentiment_analysis.csv', encoding='latin-1', header=None)"
   ]
  },
  {
   "cell_type": "markdown",
   "id": "e6056e9b",
   "metadata": {},
   "source": [
    "### Initial Dataframe:"
   ]
  },
  {
   "cell_type": "code",
   "execution_count": null,
   "id": "be984472",
   "metadata": {},
   "outputs": [],
   "source": [
    "data.head()"
   ]
  },
  {
   "cell_type": "code",
   "execution_count": null,
   "id": "f39086cb",
   "metadata": {},
   "outputs": [],
   "source": [
    "data.tail()"
   ]
  },
  {
   "cell_type": "markdown",
   "id": "ef3d9e5e",
   "metadata": {},
   "source": [
    "### Pre-processing steps and Transformations:"
   ]
  },
  {
   "cell_type": "markdown",
   "id": "8b726720",
   "metadata": {},
   "source": [
    "The columns' names for this dataset are not clear, so to fix it, we change the columns' names."
   ]
  },
  {
   "cell_type": "code",
   "execution_count": null,
   "id": "2d75e190",
   "metadata": {},
   "outputs": [],
   "source": [
    "#Setting the column names\n",
    "data.columns = ['sentiment', 'id', 'date', 'flag', 'user', 'text']"
   ]
  },
  {
   "cell_type": "code",
   "execution_count": null,
   "id": "1f92ab99",
   "metadata": {},
   "outputs": [],
   "source": [
    "#Dropping columns we don't need\n",
    "data = data.drop(columns= ['flag'])"
   ]
  },
  {
   "cell_type": "code",
   "execution_count": null,
   "id": "a692da4e",
   "metadata": {},
   "outputs": [],
   "source": [
    "#Checking for null values\n",
    "data.isnull().sum()"
   ]
  },
  {
   "cell_type": "markdown",
   "id": "2bc1ffe1",
   "metadata": {},
   "source": [
    "This indicates that there are no null values in any of the columns of the dataframe."
   ]
  },
  {
   "cell_type": "code",
   "execution_count": null,
   "id": "5cb687e9",
   "metadata": {},
   "outputs": [],
   "source": [
    "#Changing contracted words into their root form.\n",
    "def contractions(text):\n",
    "    text = re.sub(r\"won't\", 'will not',text)\n",
    "    text = re.sub(r\"would't\", 'would not',text)\n",
    "    text = re.sub(r\"could't\", 'could not',text)\n",
    "    text = re.sub(r'\\'d', 'would',text)\n",
    "    text = re.sub(r\"can\\'t\", 'can not',text)\n",
    "    text = re.sub(r\"isn\\'t\", 'is not',text)\n",
    "    text = re.sub(r\"don\\'t\", 'do not',text)\n",
    "    text = re.sub(r\"n\\'t\", ' not', text)\n",
    "    text = re.sub(r\"\\'re\", ' are', text)\n",
    "    text = re.sub(r\"\\'s\", ' is', text)\n",
    "    text = re.sub(r\"\\'ll\", ' will', text)\n",
    "    text = re.sub(r\"\\'t\", ' not', text)\n",
    "    text = re.sub(r\"\\'ve\", ' have', text)\n",
    "    text = re.sub(r\"\\'m\", ' am', text)\n",
    "    text = re.sub(r\"shoulda\", \"should have\", text)\n",
    "    text = re.sub(r\"gonna\", \"going to\", text)\n",
    "    text = re.sub(r\"wanna\", \"want to\", text)\n",
    "    text = re.sub(r\"wutcha\", \"what are you\", text)\n",
    "    text = re.sub(r\"^im\", \"I am\", text)\n",
    "    return text"
   ]
  },
  {
   "cell_type": "markdown",
   "id": "eeaea3b6",
   "metadata": {},
   "source": [
    "Defining the pre-processing steps and Transformations for the tweets in the text column."
   ]
  },
  {
   "cell_type": "code",
   "execution_count": null,
   "id": "34c5254f",
   "metadata": {},
   "outputs": [],
   "source": [
    "def preprocess_text(text):\n",
    "    # Lowercase the tweet text\n",
    "    text = text.lower()\n",
    "    \n",
    "    # Perform contractions\n",
    "    text = contractions(text)\n",
    "    \n",
    "    # Remove URLs from the tweet text\n",
    "    text = re.sub(r'http\\S+|www\\.\\S+|\\w+.com', '', text)\n",
    "    \n",
    "    # Remove mentions from the tweet text\n",
    "    text = re.sub(r'@[A-Za-z0-9]+', '', text)\n",
    "    \n",
    "    #Remove numbers from the tweet text\n",
    "    text = re.sub(r'[0-9]+', '', text)\n",
    "    \n",
    "    #Remove one or two letter words from the tweet text\n",
    "    text = re.sub(r\"\\b\\w{1,2}\\b\", \" \", text)\n",
    "    \n",
    "    # Remove hashtags and tabs from the tweet text\n",
    "    text = re.sub(r'#|\\t\\s|\\t', '', text)\n",
    "    \n",
    "    # Remove non-alphanumeric characters\n",
    "    text = re.sub(r'[^\\w\\s]', '', text)\n",
    "    \n",
    "    # Remove punctuation from the tweet text\n",
    "    text = text.translate(str.maketrans('', '', string.punctuation))\n",
    "    \n",
    "    # Remove stop words from the tweet text\n",
    "    stop_words = set(stopwords.words('english'))\n",
    "    \n",
    "    # Tokenizing and filtering the tweet text\n",
    "    word_tokens = nltk.word_tokenize(text)\n",
    "    filtered_text = [word for word in word_tokens if word not in stop_words]\n",
    "    \n",
    "    # Lemmatize each word in the filtered tweet text to reduce each word to its base form \n",
    "    lemmatizer = WordNetLemmatizer()\n",
    "    lemma_text = [lemmatizer.lemmatize(word) for word in filtered_text]\n",
    "    \n",
    "    # Join the words back into a single string and return\n",
    "    return ' '.join(lemma_text)"
   ]
  },
  {
   "cell_type": "code",
   "execution_count": null,
   "id": "5ae46531",
   "metadata": {},
   "outputs": [],
   "source": [
    "#Applying the preprocess_text function to every tweet in the text column.\n",
    "data['text'] = data['text'].apply(preprocess_text)"
   ]
  },
  {
   "cell_type": "markdown",
   "id": "a7660a87",
   "metadata": {},
   "source": [
    "### Imputing values:\n",
    "We have 0 and 4 as values in sentiment column. We change the value 4 to 1. Here 0 indicates 'Negative' and 1 indicates 'Positive'."
   ]
  },
  {
   "cell_type": "code",
   "execution_count": null,
   "id": "2c9cc655",
   "metadata": {},
   "outputs": [],
   "source": [
    "data['sentiment'] = data['sentiment'].replace(4, 1)"
   ]
  },
  {
   "cell_type": "markdown",
   "id": "a5dcb3ba",
   "metadata": {},
   "source": [
    "### Cleansed Dataframe:\n",
    "After performing pre-processing, transformations, and imputing, this is our cleansed dataframe:"
   ]
  },
  {
   "cell_type": "code",
   "execution_count": null,
   "id": "7008e4d0",
   "metadata": {},
   "outputs": [],
   "source": [
    "data.head()"
   ]
  },
  {
   "cell_type": "code",
   "execution_count": null,
   "id": "32130aef",
   "metadata": {},
   "outputs": [],
   "source": [
    "data.tail()"
   ]
  },
  {
   "cell_type": "markdown",
   "id": "5a9cc51f",
   "metadata": {},
   "source": [
    "### About the dataframe:"
   ]
  },
  {
   "cell_type": "code",
   "execution_count": null,
   "id": "ffd6994b",
   "metadata": {},
   "outputs": [],
   "source": [
    "# Displaying shape\n",
    "print('Shape of Data Frame:', data.shape)"
   ]
  },
  {
   "cell_type": "markdown",
   "id": "1eec6d8e",
   "metadata": {},
   "source": [
    "### Highlighting features/predictors/target variables:"
   ]
  },
  {
   "cell_type": "markdown",
   "id": "cc329d92",
   "metadata": {},
   "source": [
    "Features/Predictors:\n",
    "- text"
   ]
  },
  {
   "cell_type": "markdown",
   "id": "86d9ea17",
   "metadata": {},
   "source": [
    "Target Variable:\n",
    "- sentiment"
   ]
  },
  {
   "cell_type": "code",
   "execution_count": null,
   "id": "1e1ecd96",
   "metadata": {},
   "outputs": [],
   "source": [
    "#Information about the dataframe\n",
    "data.info()"
   ]
  },
  {
   "cell_type": "markdown",
   "id": "0be3bd21",
   "metadata": {},
   "source": [
    "### Displaying descriptive statistics:"
   ]
  },
  {
   "cell_type": "code",
   "execution_count": null,
   "id": "c6c555ba",
   "metadata": {},
   "outputs": [],
   "source": [
    "data.describe(include='all')"
   ]
  },
  {
   "cell_type": "markdown",
   "id": "d1a01440",
   "metadata": {},
   "source": [
    "### Visualizations:"
   ]
  },
  {
   "cell_type": "markdown",
   "id": "93aed44e",
   "metadata": {},
   "source": [
    "### Count plot of sentiment:"
   ]
  },
  {
   "cell_type": "code",
   "execution_count": null,
   "id": "f54f0403",
   "metadata": {},
   "outputs": [],
   "source": [
    "sns.countplot(x='sentiment', data=data)\n",
    "plt.gca().set_xticklabels(['Negative', 'Positive'])\n",
    "plt.title('Sentiment Count')\n",
    "plt.show()"
   ]
  },
  {
   "cell_type": "markdown",
   "id": "b89b1926",
   "metadata": {},
   "source": [
    "We can observe that the dataframe has equal positive and negative sentiment texts."
   ]
  },
  {
   "cell_type": "markdown",
   "id": "50e34b55",
   "metadata": {},
   "source": [
    "### Word cloud of text:"
   ]
  },
  {
   "cell_type": "code",
   "execution_count": null,
   "id": "63fa2152",
   "metadata": {},
   "outputs": [],
   "source": [
    "stop_words = set(stopwords.words('english'))\n",
    "\n",
    "wordcloud = WordCloud(width = 800, height = 800, background_color ='white', stopwords = stop_words,\n",
    "                      min_font_size = 10).generate(''.join(data['text'])+\" \")\n",
    "plt.figure(figsize = (8, 8)) \n",
    "plt.imshow(wordcloud) \n",
    "plt.axis(\"off\") \n",
    "plt.tight_layout(pad = 0) \n",
    "plt.show() "
   ]
  },
  {
   "cell_type": "code",
   "execution_count": null,
   "id": "8b24c80c",
   "metadata": {},
   "outputs": [],
   "source": [
    "# positive\n",
    "stop_words = set(stopwords.words('english'))\n",
    "\n",
    "wordcloud = WordCloud(width = 800, height = 800, background_color ='white', stopwords = stop_words,\n",
    "                      min_font_size = 10).generate(''.join([x for x in data['text'][data['sentiment']==1]])+\" \")\n",
    "plt.figure(figsize = (8, 8)) \n",
    "plt.imshow(wordcloud) \n",
    "plt.axis(\"off\") \n",
    "plt.tight_layout(pad = 0) \n",
    "plt.show() "
   ]
  },
  {
   "cell_type": "code",
   "execution_count": null,
   "id": "87713b5b",
   "metadata": {},
   "outputs": [],
   "source": [
    "# negative\n",
    "stop_words = set(stopwords.words('english'))\n",
    "\n",
    "wordcloud = WordCloud(width = 800, height = 800, background_color ='white', stopwords = stop_words,\n",
    "                      min_font_size = 10).generate(''.join([x for x in data['text'][data['sentiment']==0]])+\" \")\n",
    "plt.figure(figsize = (8, 8)) \n",
    "plt.imshow(wordcloud) \n",
    "plt.axis(\"off\") \n",
    "plt.tight_layout(pad = 0) \n",
    "plt.show() "
   ]
  },
  {
   "cell_type": "markdown",
   "id": "6209ec52",
   "metadata": {},
   "source": [
    "Code to calculate number of occurences of different words in all of the tweet texts."
   ]
  },
  {
   "cell_type": "code",
   "execution_count": null,
   "id": "af1e8453",
   "metadata": {},
   "outputs": [],
   "source": [
    "# Tokenize the text into words using NLTK\n",
    "tokenizer = nltk.tokenize.RegexpTokenizer(r'\\w+')\n",
    "data['tokens'] = data['text'].apply(lambda x: tokenizer.tokenize(x))\n",
    "\n",
    "# Create a list of all the words in the dataset\n",
    "all_words = [word for tokens in data['tokens'] for word in tokens]\n",
    "\n",
    "# Count the frequency of each word using Counter\n",
    "val_count = Counter(all_words)\n",
    "\n",
    "# Visualise the top 10 occuring words in the tweet texts\n",
    "val_counts= pd.DataFrame.from_dict(val_count, orient= 'index').reset_index()\n",
    "val_counts= val_counts.rename(columns= {'index': 'Word', 0: 'Occurrence'})\n",
    "val_counts.sort_values('Occurrence', ascending= False, inplace= True)\n",
    "val_counts.head(10)"
   ]
  },
  {
   "cell_type": "code",
   "execution_count": null,
   "id": "0c17a40c",
   "metadata": {},
   "outputs": [],
   "source": [
    "len(all_words)"
   ]
  },
  {
   "cell_type": "code",
   "execution_count": null,
   "id": "86a469e8",
   "metadata": {},
   "outputs": [],
   "source": [
    "# all_words[1000000:]"
   ]
  },
  {
   "cell_type": "markdown",
   "id": "40af3cc6",
   "metadata": {},
   "source": [
    "### Bar Plot of Top 30 Occurring words in the Tweet Texts:"
   ]
  },
  {
   "cell_type": "code",
   "execution_count": null,
   "id": "43a12b0a",
   "metadata": {},
   "outputs": [],
   "source": [
    "top_30 = val_counts.iloc[:30, :]\n",
    "\n",
    "plt.figure(figsize= (20,8))\n",
    "plt.bar(x= top_30.Word, height= top_30.Occurrence)\n",
    "plt.title('Top 30 Occurring Words in the Tweet texts')\n",
    "plt.xlabel('Word')\n",
    "plt.ylabel('Occurrence')\n",
    "plt.xticks(rotation=45)\n",
    "plt.show()"
   ]
  },
  {
   "cell_type": "markdown",
   "id": "2bcbb6d5",
   "metadata": {},
   "source": [
    "### Splitting the dataset for training and testing:"
   ]
  },
  {
   "cell_type": "code",
   "execution_count": null,
   "id": "f8b2a572",
   "metadata": {},
   "outputs": [],
   "source": [
    "X_train, X_test, y_train, y_test = train_test_split(data['text'], data['sentiment'], test_size=0.2, random_state=42)"
   ]
  },
  {
   "cell_type": "markdown",
   "id": "d3c0d152",
   "metadata": {},
   "source": [
    "### Vectorizing the training data:"
   ]
  },
  {
   "cell_type": "code",
   "execution_count": 68,
   "id": "29f0f1a7",
   "metadata": {},
   "outputs": [],
   "source": [
    "#Converting the text into a vector of numerical values.\n",
    "# vectorizer = CountVectorizer()\n",
    "# X_train = vectorizer.fit_transform(X_train)\n",
    "\n",
    "# Create a TfidfVectorizer object\n",
    "tfidf = TfidfVectorizer(stop_words='english', max_features=650, max_df=0.9, min_df=7, binary=True, \n",
    "                                   ngram_range=(1,2))\n",
    "\n",
    "# Fit the vectorizer to the text data\n",
    "tfidf.fit(X_train)\n",
    "\n",
    "# Transform the text data using the fitted vectorizer\n",
    "X_train_tfidf = tfidf.transform(X_train)\n",
    "X_test_tfidf = tfidf.transform(X_test)"
   ]
  },
  {
   "cell_type": "markdown",
   "id": "2b392c79",
   "metadata": {},
   "source": [
    "### Building the model:"
   ]
  },
  {
   "cell_type": "code",
   "execution_count": 69,
   "id": "c800f143",
   "metadata": {},
   "outputs": [
    {
     "data": {
      "text/html": [
       "<style>#sk-container-id-1 {color: black;background-color: white;}#sk-container-id-1 pre{padding: 0;}#sk-container-id-1 div.sk-toggleable {background-color: white;}#sk-container-id-1 label.sk-toggleable__label {cursor: pointer;display: block;width: 100%;margin-bottom: 0;padding: 0.3em;box-sizing: border-box;text-align: center;}#sk-container-id-1 label.sk-toggleable__label-arrow:before {content: \"▸\";float: left;margin-right: 0.25em;color: #696969;}#sk-container-id-1 label.sk-toggleable__label-arrow:hover:before {color: black;}#sk-container-id-1 div.sk-estimator:hover label.sk-toggleable__label-arrow:before {color: black;}#sk-container-id-1 div.sk-toggleable__content {max-height: 0;max-width: 0;overflow: hidden;text-align: left;background-color: #f0f8ff;}#sk-container-id-1 div.sk-toggleable__content pre {margin: 0.2em;color: black;border-radius: 0.25em;background-color: #f0f8ff;}#sk-container-id-1 input.sk-toggleable__control:checked~div.sk-toggleable__content {max-height: 200px;max-width: 100%;overflow: auto;}#sk-container-id-1 input.sk-toggleable__control:checked~label.sk-toggleable__label-arrow:before {content: \"▾\";}#sk-container-id-1 div.sk-estimator input.sk-toggleable__control:checked~label.sk-toggleable__label {background-color: #d4ebff;}#sk-container-id-1 div.sk-label input.sk-toggleable__control:checked~label.sk-toggleable__label {background-color: #d4ebff;}#sk-container-id-1 input.sk-hidden--visually {border: 0;clip: rect(1px 1px 1px 1px);clip: rect(1px, 1px, 1px, 1px);height: 1px;margin: -1px;overflow: hidden;padding: 0;position: absolute;width: 1px;}#sk-container-id-1 div.sk-estimator {font-family: monospace;background-color: #f0f8ff;border: 1px dotted black;border-radius: 0.25em;box-sizing: border-box;margin-bottom: 0.5em;}#sk-container-id-1 div.sk-estimator:hover {background-color: #d4ebff;}#sk-container-id-1 div.sk-parallel-item::after {content: \"\";width: 100%;border-bottom: 1px solid gray;flex-grow: 1;}#sk-container-id-1 div.sk-label:hover label.sk-toggleable__label {background-color: #d4ebff;}#sk-container-id-1 div.sk-serial::before {content: \"\";position: absolute;border-left: 1px solid gray;box-sizing: border-box;top: 0;bottom: 0;left: 50%;z-index: 0;}#sk-container-id-1 div.sk-serial {display: flex;flex-direction: column;align-items: center;background-color: white;padding-right: 0.2em;padding-left: 0.2em;position: relative;}#sk-container-id-1 div.sk-item {position: relative;z-index: 1;}#sk-container-id-1 div.sk-parallel {display: flex;align-items: stretch;justify-content: center;background-color: white;position: relative;}#sk-container-id-1 div.sk-item::before, #sk-container-id-1 div.sk-parallel-item::before {content: \"\";position: absolute;border-left: 1px solid gray;box-sizing: border-box;top: 0;bottom: 0;left: 50%;z-index: -1;}#sk-container-id-1 div.sk-parallel-item {display: flex;flex-direction: column;z-index: 1;position: relative;background-color: white;}#sk-container-id-1 div.sk-parallel-item:first-child::after {align-self: flex-end;width: 50%;}#sk-container-id-1 div.sk-parallel-item:last-child::after {align-self: flex-start;width: 50%;}#sk-container-id-1 div.sk-parallel-item:only-child::after {width: 0;}#sk-container-id-1 div.sk-dashed-wrapped {border: 1px dashed gray;margin: 0 0.4em 0.5em 0.4em;box-sizing: border-box;padding-bottom: 0.4em;background-color: white;}#sk-container-id-1 div.sk-label label {font-family: monospace;font-weight: bold;display: inline-block;line-height: 1.2em;}#sk-container-id-1 div.sk-label-container {text-align: center;}#sk-container-id-1 div.sk-container {/* jupyter's `normalize.less` sets `[hidden] { display: none; }` but bootstrap.min.css set `[hidden] { display: none !important; }` so we also need the `!important` here to be able to override the default hidden behavior on the sphinx rendered scikit-learn.org. See: https://github.com/scikit-learn/scikit-learn/issues/21755 */display: inline-block !important;position: relative;}#sk-container-id-1 div.sk-text-repr-fallback {display: none;}</style><div id=\"sk-container-id-1\" class=\"sk-top-container\"><div class=\"sk-text-repr-fallback\"><pre>MultinomialNB()</pre><b>In a Jupyter environment, please rerun this cell to show the HTML representation or trust the notebook. <br />On GitHub, the HTML representation is unable to render, please try loading this page with nbviewer.org.</b></div><div class=\"sk-container\" hidden><div class=\"sk-item\"><div class=\"sk-estimator sk-toggleable\"><input class=\"sk-toggleable__control sk-hidden--visually\" id=\"sk-estimator-id-1\" type=\"checkbox\" checked><label for=\"sk-estimator-id-1\" class=\"sk-toggleable__label sk-toggleable__label-arrow\">MultinomialNB</label><div class=\"sk-toggleable__content\"><pre>MultinomialNB()</pre></div></div></div></div></div>"
      ],
      "text/plain": [
       "MultinomialNB()"
      ]
     },
     "execution_count": 69,
     "metadata": {},
     "output_type": "execute_result"
    }
   ],
   "source": [
    "#Using the Multinomial Naive Bayes (MNB) algorithm for model building.\n",
    "model_nb = MultinomialNB()\n",
    "model_nb.fit(X_train_tfidf, y_train)"
   ]
  },
  {
   "cell_type": "markdown",
   "id": "1b616120",
   "metadata": {},
   "source": [
    "### Making initial prediction:"
   ]
  },
  {
   "cell_type": "code",
   "execution_count": 70,
   "id": "03ca7cf9",
   "metadata": {},
   "outputs": [],
   "source": [
    "# X_test = vectorizer.transform(X_test)\n",
    "y_pred_nb = model_nb.predict(X_test_tfidf)"
   ]
  },
  {
   "cell_type": "markdown",
   "id": "e507e8e3",
   "metadata": {},
   "source": [
    "### Displaying initial prediction:"
   ]
  },
  {
   "cell_type": "code",
   "execution_count": 71,
   "id": "88b9e9e8",
   "metadata": {},
   "outputs": [
    {
     "name": "stdout",
     "output_type": "stream",
     "text": [
      "Initial Prediction:\n",
      "[1 1 1 ... 1 1 0]\n"
     ]
    }
   ],
   "source": [
    "print('Initial Prediction:')\n",
    "print(y_pred_nb)"
   ]
  },
  {
   "cell_type": "markdown",
   "id": "35afe693",
   "metadata": {},
   "source": [
    "### Evaluating the model:"
   ]
  },
  {
   "cell_type": "code",
   "execution_count": 72,
   "id": "0c877370",
   "metadata": {},
   "outputs": [
    {
     "name": "stdout",
     "output_type": "stream",
     "text": [
      "Classification Report: \n",
      "              precision    recall  f1-score   support\n",
      "\n",
      "           0       0.70      0.73      0.71    159494\n",
      "           1       0.72      0.68      0.70    160506\n",
      "\n",
      "    accuracy                           0.71    320000\n",
      "   macro avg       0.71      0.71      0.71    320000\n",
      "weighted avg       0.71      0.71      0.71    320000\n",
      "\n"
     ]
    }
   ],
   "source": [
    "# Evaluating the performance of the model using different metrics.\n",
    "print(\"Classification Report: \")\n",
    "print(classification_report(y_test, y_pred_nb))"
   ]
  },
  {
   "cell_type": "code",
   "execution_count": 73,
   "id": "8030a1b4",
   "metadata": {},
   "outputs": [
    {
     "data": {
      "image/png": "[encoded data removed]",
      "text/plain": [
       "<Figure size 432x288 with 2 Axes>"
      ]
     },
     "metadata": {
      "needs_background": "light"
     },
     "output_type": "display_data"
    }
   ],
   "source": [
    "# Calculate the Confusion matrix for Naive Bayes model\n",
    "conf_mat_nb = confusion_matrix(y_test, y_pred_nb)\n",
    "\n",
    "cm_display_nb = ConfusionMatrixDisplay(confusion_matrix = conf_mat_nb, display_labels = [False, True])\n",
    "\n",
    "cm_display_nb.plot()\n",
    "plt.show()"
   ]
  },
  {
   "cell_type": "code",
   "execution_count": 74,
   "id": "1a1ccc9e",
   "metadata": {},
   "outputs": [],
   "source": [
    "# Define a function to evaluate different models.\n",
    "def metrics(y_test, y_pred):\n",
    "    metrics = []\n",
    "    accuracy = accuracy_score(y_test, y_pred)\n",
    "    precision = precision_score(y_test, y_pred)\n",
    "    recall = recall_score(y_test, y_pred)\n",
    "    f1 = recall_score(y_test, y_pred)\n",
    "    metrics.append(accuracy)\n",
    "    metrics.append(precision)\n",
    "    metrics.append(recall)\n",
    "    metrics.append(f1)\n",
    "    return metrics"
   ]
  },
  {
   "cell_type": "code",
   "execution_count": 75,
   "id": "76be3d6f",
   "metadata": {},
   "outputs": [],
   "source": [
    "nb_metrics = metrics(y_test, y_pred_nb)"
   ]
  },
  {
   "cell_type": "markdown",
   "id": "ad0bc91c",
   "metadata": {},
   "source": [
    "### Building a different model:"
   ]
  },
  {
   "cell_type": "code",
   "execution_count": 76,
   "id": "f92871f5",
   "metadata": {},
   "outputs": [],
   "source": [
    "# Create a LogisticRegression object\n",
    "model_lr = LogisticRegression()\n",
    "\n",
    "# Fit the model to the training data\n",
    "model_lr.fit(X_train_tfidf, y_train)\n",
    "\n",
    "# Make predictions on the test data\n",
    "y_pred_lr = model_lr.predict(X_test_tfidf)"
   ]
  },
  {
   "cell_type": "code",
   "execution_count": 77,
   "id": "c78d550b",
   "metadata": {},
   "outputs": [
    {
     "name": "stdout",
     "output_type": "stream",
     "text": [
      "Classification Report: \n",
      "              precision    recall  f1-score   support\n",
      "\n",
      "           0       0.74      0.67      0.70    159494\n",
      "           1       0.70      0.77      0.73    160506\n",
      "\n",
      "    accuracy                           0.72    320000\n",
      "   macro avg       0.72      0.72      0.72    320000\n",
      "weighted avg       0.72      0.72      0.72    320000\n",
      "\n"
     ]
    }
   ],
   "source": [
    "# Evaluating the performance of the model using different metrics.\n",
    "print(\"Classification Report: \")\n",
    "print(classification_report(y_test, y_pred_lr))"
   ]
  },
  {
   "cell_type": "code",
   "execution_count": 78,
   "id": "79345dd3",
   "metadata": {},
   "outputs": [
    {
     "data": {
      "image/png": "[encoded data removed]",
      "text/plain": [
       "<Figure size 432x288 with 2 Axes>"
      ]
     },
     "metadata": {
      "needs_background": "light"
     },
     "output_type": "display_data"
    }
   ],
   "source": [
    "# Calculate the confusion matrix for Logistic regression model\n",
    "conf_mat_lr = confusion_matrix(y_test, y_pred_lr)\n",
    "\n",
    "cm_display_lr = ConfusionMatrixDisplay(confusion_matrix = conf_mat_lr, display_labels = [False, True])\n",
    "\n",
    "cm_display_lr.plot()\n",
    "plt.show()"
   ]
  },
  {
   "cell_type": "code",
   "execution_count": 79,
   "id": "45c1cb91",
   "metadata": {},
   "outputs": [],
   "source": [
    "lr_metrics = metrics(y_test, y_pred_lr)"
   ]
  },
  {
   "cell_type": "code",
   "execution_count": null,
   "id": "748041eb",
   "metadata": {},
   "outputs": [],
   "source": [
    "from keras.layers import Dense, Embedding, LSTM, SpatialDropout1D\n",
    "from keras_preprocessing.sequence import pad_sequences\n",
    "from keras_preprocessing.text import Tokenizer\n",
    "from keras.models import Sequential\n",
    "import keras\n"
   ]
  },
  {
   "cell_type": "code",
   "execution_count": 43,
   "id": "36352c7f",
   "metadata": {},
   "outputs": [],
   "source": [
    "# Hyperparameters of the model\n",
    "vocab_size = 3000 # choose based on statistics\n",
    "oov_tok = ''\n",
    "embedding_dim = 100\n",
    "max_length = 200 # choose based on statistics, for example 150 to 200\n",
    "padding_type='post'\n",
    "trunc_type='post'\n",
    "# tokenize sentences\n",
    "tokenizer = Tokenizer(num_words = vocab_size, oov_token=oov_tok)\n",
    "tokenizer.fit_on_texts(X_train)\n",
    "word_index = tokenizer.word_index\n",
    "# convert train dataset to sequence and pad sequences\n",
    "train_sequences = tokenizer.texts_to_sequences(X_train)\n",
    "train_padded = pad_sequences(train_sequences, padding='post', maxlen=max_length)\n",
    "# convert Test dataset to sequence and pad sequences\n",
    "test_sequences = tokenizer.texts_to_sequences(X_test)\n",
    "test_padded = pad_sequences(test_sequences, padding='post', maxlen=max_length)"
   ]
  },
  {
   "cell_type": "code",
   "execution_count": 44,
   "id": "ac578148",
   "metadata": {},
   "outputs": [
    {
     "name": "stdout",
     "output_type": "stream",
     "text": [
      "Model: \"sequential\"\n",
      "_________________________________________________________________\n",
      " Layer (type)                Output Shape              Param #   \n",
      "=================================================================\n",
      " embedding (Embedding)       (None, 200, 100)          300000    \n",
      "                                                                 \n",
      " bidirectional (Bidirectiona  (None, 128)              84480     \n",
      " l)                                                              \n",
      "                                                                 \n",
      " dense (Dense)               (None, 24)                3096      \n",
      "                                                                 \n",
      " dense_1 (Dense)             (None, 1)                 25        \n",
      "                                                                 \n",
      "=================================================================\n",
      "Total params: 387,601\n",
      "Trainable params: 387,601\n",
      "Non-trainable params: 0\n",
      "_________________________________________________________________\n"
     ]
    }
   ],
   "source": [
    "# model initialization\n",
    "model = keras.Sequential([\n",
    "    keras.layers.Embedding(vocab_size, embedding_dim, input_length=max_length),\n",
    "    keras.layers.Bidirectional(keras.layers.LSTM(64)),\n",
    "    keras.layers.Dense(24, activation='relu'),\n",
    "    keras.layers.Dense(1, activation='sigmoid')\n",
    "])\n",
    "# compile model\n",
    "model.compile(loss='binary_crossentropy',\n",
    "              optimizer='adam',\n",
    "              metrics=['accuracy'])\n",
    "# model summary\n",
    "model.summary()"
   ]
  },
  {
   "cell_type": "code",
   "execution_count": 45,
   "id": "df7d2f63",
   "metadata": {},
   "outputs": [],
   "source": [
    "import tensorflow as tf\n",
    "tf.config.run_functions_eagerly(True)"
   ]
  },
  {
   "cell_type": "code",
   "execution_count": 46,
   "id": "1bfb6ac2",
   "metadata": {},
   "outputs": [
    {
     "name": "stdout",
     "output_type": "stream",
     "text": [
      "Epoch 1/2\n"
     ]
    },
    {
     "name": "stderr",
     "output_type": "stream",
     "text": [
      "C:\\Users\\HP\\anaconda3\\lib\\site-packages\\tensorflow\\python\\data\\ops\\structured_function.py:264: UserWarning: Even though the `tf.config.experimental_run_functions_eagerly` option is set, this option does not apply to tf.data functions. To force eager execution of tf.data functions, please use `tf.data.experimental.enable_debug_mode()`.\n",
      "  warnings.warn(\n"
     ]
    },
    {
     "name": "stdout",
     "output_type": "stream",
     "text": [
      "20000/20000 [==============================] - 16964s 848ms/step - loss: 0.4851 - accuracy: 0.7629\n",
      "Epoch 2/2\n",
      "20000/20000 [==============================] - 17424s 871ms/step - loss: 0.4665 - accuracy: 0.7741\n"
     ]
    },
    {
     "data": {
      "text/plain": [
       "<keras.callbacks.History at 0x2480597aee0>"
      ]
     },
     "execution_count": 46,
     "metadata": {},
     "output_type": "execute_result"
    }
   ],
   "source": [
    "batch_size=64\n",
    "model.fit(train_padded, y_train, epochs = 2, batch_size=batch_size, verbose = 'auto')"
   ]
  },
  {
   "cell_type": "code",
   "execution_count": 47,
   "id": "a82a2d08",
   "metadata": {},
   "outputs": [],
   "source": [
    "from tensorflow.keras.models import save_model\n",
    "save_model(model, \"lstm_model.h5\")"
   ]
  },
  {
   "cell_type": "code",
   "execution_count": 48,
   "id": "ebf2f90b",
   "metadata": {},
   "outputs": [
    {
     "name": "stdout",
     "output_type": "stream",
     "text": [
      "Model: \"sequential\"\n",
      "_________________________________________________________________\n",
      " Layer (type)                Output Shape              Param #   \n",
      "=================================================================\n",
      " embedding (Embedding)       (None, 200, 100)          300000    \n",
      "                                                                 \n",
      " bidirectional (Bidirectiona  (None, 128)              84480     \n",
      " l)                                                              \n",
      "                                                                 \n",
      " dense (Dense)               (None, 24)                3096      \n",
      "                                                                 \n",
      " dense_1 (Dense)             (None, 1)                 25        \n",
      "                                                                 \n",
      "=================================================================\n",
      "Total params: 387,601\n",
      "Trainable params: 387,601\n",
      "Non-trainable params: 0\n",
      "_________________________________________________________________\n"
     ]
    }
   ],
   "source": [
    "\n",
    "from tensorflow.keras.models import load_model\n",
    "# load model\n",
    "model = load_model('lstm_model.h5')\n",
    "# summarize model.\n",
    "model.summary()"
   ]
  },
  {
   "cell_type": "code",
   "execution_count": 53,
   "id": "1771df8c",
   "metadata": {},
   "outputs": [
    {
     "name": "stdout",
     "output_type": "stream",
     "text": [
      "10000/10000 [==============================] - 3101s 310ms/step - loss: 0.4664 - accuracy: 0.7742\n"
     ]
    },
    {
     "data": {
      "text/plain": [
       "[0.466447651386261, 0.7741624712944031]"
      ]
     },
     "execution_count": 53,
     "metadata": {},
     "output_type": "execute_result"
    }
   ],
   "source": [
    "model.evaluate(test_padded, y_test)"
   ]
  },
  {
   "cell_type": "code",
   "execution_count": 64,
   "id": "62ff1b24",
   "metadata": {},
   "outputs": [
    {
     "name": "stderr",
     "output_type": "stream",
     "text": [
      "C:\\Users\\HP\\anaconda3\\lib\\site-packages\\tensorflow\\python\\data\\ops\\structured_function.py:264: UserWarning: Even though the `tf.config.experimental_run_functions_eagerly` option is set, this option does not apply to tf.data functions. To force eager execution of tf.data functions, please use `tf.data.experimental.enable_debug_mode()`.\n",
      "  warnings.warn(\n"
     ]
    },
    {
     "name": "stdout",
     "output_type": "stream",
     "text": [
      "10000/10000 [==============================] - 2956s 296ms/step\n",
      "Accuracy of prediction on test set :  0.7741625\n"
     ]
    }
   ],
   "source": [
    "prediction = model.predict(test_padded)\n",
    "# Get labels based on probability 1 if p>= 0.5 else 0\n",
    "pred_labels = []\n",
    "for i in prediction:\n",
    "    if i >= 0.5:\n",
    "        pred_labels.append(1)\n",
    "    else:\n",
    "        pred_labels.append(0)\n",
    "print(\"Accuracy of prediction on test set : \", accuracy_score(y_test,pred_labels))"
   ]
  },
  {
   "cell_type": "code",
   "execution_count": 65,
   "id": "5e03c1c5",
   "metadata": {},
   "outputs": [
    {
     "name": "stdout",
     "output_type": "stream",
     "text": [
      "0.7648962486190499\n",
      "0.7937086464057418\n",
      "0.7937086464057418\n"
     ]
    }
   ],
   "source": [
    "precision = precision_score(y_test, pred_labels)\n",
    "recall = recall_score(y_test, pred_labels)\n",
    "f1 = recall_score(y_test, pred_labels)\n",
    "print(precision)\n",
    "print(recall)\n",
    "print(f1)"
   ]
  },
  {
   "cell_type": "code",
   "execution_count": 66,
   "id": "635a5861",
   "metadata": {},
   "outputs": [],
   "source": [
    "lstm_metrics = metrics(y_test, pred_labels)"
   ]
  },
  {
   "cell_type": "code",
   "execution_count": 80,
   "id": "cc48342b",
   "metadata": {},
   "outputs": [
    {
     "data": {
      "text/html": [
       "<div>\n",
       "<style scoped>\n",
       "    .dataframe tbody tr th:only-of-type {\n",
       "        vertical-align: middle;\n",
       "    }\n",
       "\n",
       "    .dataframe tbody tr th {\n",
       "        vertical-align: top;\n",
       "    }\n",
       "\n",
       "    .dataframe thead th {\n",
       "        text-align: right;\n",
       "    }\n",
       "</style>\n",
       "<table border=\"1\" class=\"dataframe\">\n",
       "  <thead>\n",
       "    <tr style=\"text-align: right;\">\n",
       "      <th></th>\n",
       "      <th>Metric</th>\n",
       "      <th>Naive Bayes</th>\n",
       "      <th>Logistic Regression</th>\n",
       "      <th>LSTM</th>\n",
       "    </tr>\n",
       "  </thead>\n",
       "  <tbody>\n",
       "    <tr>\n",
       "      <th>0</th>\n",
       "      <td>Accuracy</td>\n",
       "      <td>0.707156</td>\n",
       "      <td>0.720050</td>\n",
       "      <td>0.774162</td>\n",
       "    </tr>\n",
       "    <tr>\n",
       "      <th>1</th>\n",
       "      <td>Precision</td>\n",
       "      <td>0.720574</td>\n",
       "      <td>0.700742</td>\n",
       "      <td>0.764896</td>\n",
       "    </tr>\n",
       "    <tr>\n",
       "      <th>2</th>\n",
       "      <td>Recall</td>\n",
       "      <td>0.679757</td>\n",
       "      <td>0.771224</td>\n",
       "      <td>0.793709</td>\n",
       "    </tr>\n",
       "    <tr>\n",
       "      <th>3</th>\n",
       "      <td>F1Score</td>\n",
       "      <td>0.679757</td>\n",
       "      <td>0.771224</td>\n",
       "      <td>0.793709</td>\n",
       "    </tr>\n",
       "  </tbody>\n",
       "</table>\n",
       "</div>"
      ],
      "text/plain": [
       "      Metric  Naive Bayes  Logistic Regression      LSTM\n",
       "0   Accuracy     0.707156             0.720050  0.774162\n",
       "1  Precision     0.720574             0.700742  0.764896\n",
       "2     Recall     0.679757             0.771224  0.793709\n",
       "3    F1Score     0.679757             0.771224  0.793709"
      ]
     },
     "execution_count": 80,
     "metadata": {},
     "output_type": "execute_result"
    }
   ],
   "source": [
    "# Create a table which contain all the metrics of both the models.\n",
    "metrics_table = {'Metric': ['Accuracy','Precision','Recall',\n",
    "                       'F1Score'], \n",
    "        'Naive Bayes': nb_metrics,\n",
    "        'Logistic Regression': lr_metrics,\n",
    "        'LSTM' : lstm_metrics\n",
    "        }\n",
    "\n",
    "df_metrics = pd.DataFrame(metrics_table, columns = ['Metric', 'Naive Bayes', 'Logistic Regression', 'LSTM'])\n",
    "df_metrics"
   ]
  },
  {
   "cell_type": "markdown",
   "id": "ee3c0f04",
   "metadata": {},
   "source": [
    "We can observe here that Logistic Regression model has higher accuracy than Naive Bayes model."
   ]
  },
  {
   "cell_type": "markdown",
   "id": "2a68c752",
   "metadata": {},
   "source": [
    "### Test sentences for prediction using LR Model:"
   ]
  },
  {
   "cell_type": "code",
   "execution_count": null,
   "id": "d8988185",
   "metadata": {},
   "outputs": [],
   "source": [
    "sents = ['the movie plot is terrible but it had good acting', 'I hope your day rocks as much as you do', 'I hate everyone']\n",
    "\n",
    "# Vectorizing the test sentences.\n",
    "v = tfidf.transform(sents)\n",
    "\n",
    "# Predicting sentiment on the test sentences.\n",
    "prediction = model.predict(v)\n",
    "pred_labels = []\n",
    "\n",
    "for i in prediction:\n",
    "    if i >= 0.5:\n",
    "        pred_labels.append(1)\n",
    "    else:\n",
    "        pred_labels.append(0)\n",
    "\n",
    "for i in range(len(sents)):\n",
    "    print(sents[i])\n",
    "    if pred_labels[i] == 1:\n",
    "        s = 'Positive'\n",
    "    else:\n",
    "        s = 'Negative'\n",
    "    print(\"Predicted sentiment: \",s)"
   ]
  },
  {
   "cell_type": "markdown",
   "id": "4a47f68f",
   "metadata": {},
   "source": [
    "### References:"
   ]
  },
  {
   "cell_type": "markdown",
   "id": "92352853",
   "metadata": {},
   "source": [
    "https://pandas.pydata.org/docs/reference/frame.html\n",
    "\n",
    "https://www.kaggle.com/datasets/kazanova/sentiment140\n",
    "\n",
    "https://medium.com/analytics-vidhya/sentiment-analysis-on-amazon-reviews-using-tf-idf-approach-c5ab4c36e7a1\n",
    "\n",
    "https://towardsdatascience.com/nlp-preprocessing-with-nltk-3c04ee00edc0\n",
    "\n",
    "https://www.geeksforgeeks.org/generating-word-cloud-python/\n",
    "\n",
    "https://www.w3schools.com/python/python_ml_confusion_matrix.asp\n",
    "\n",
    "https://scikit-learn.org/\n",
    "\n",
    "https://docs.python.org/3/library/re.html"
   ]
  },
  {
   "cell_type": "code",
   "execution_count": null,
   "id": "22289dab",
   "metadata": {},
   "outputs": [],
   "source": []
  }
 ],
 "metadata": {
  "kernelspec": {
   "display_name": "Python 3 (ipykernel)",
   "language": "python",
   "name": "python3"
  },
  "language_info": {
   "codemirror_mode": {
    "name": "ipython",
    "version": 3
   },
   "file_extension": ".py",
   "mimetype": "text/x-python",
   "name": "python",
   "nbconvert_exporter": "python",
   "pygments_lexer": "ipython3",
   "version": "3.9.7"
  }
 },
 "nbformat": 4,
 "nbformat_minor": 5
}
