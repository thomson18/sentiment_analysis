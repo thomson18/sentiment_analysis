{
 "cells": [
  {
   "cell_type": "code",
<<<<<<< Updated upstream
   "execution_count": 1,
   "id": "c01af948",
=======
   "execution_count": 10,
   "id": "cc1f4ab9",
>>>>>>> Stashed changes
   "metadata": {},
   "outputs": [],
   "source": [
    "import pandas as pd\n",
    "import numpy as np\n",
    "import matplotlib.pyplot as plt\n",
    "import seaborn as sns\n",
    "from sklearn.model_selection import train_test_split\n",
    "from sklearn.feature_extraction.text import CountVectorizer\n",
    "from sklearn.naive_bayes import MultinomialNB\n",
    "from sklearn.metrics import *"
   ]
  },
  {
   "cell_type": "code",
<<<<<<< Updated upstream
   "execution_count": 2,
   "id": "584df8ab",
=======
   "execution_count": 11,
   "id": "99c061e7",
>>>>>>> Stashed changes
   "metadata": {},
   "outputs": [],
   "source": [
    "# columns=['target','ids','date','query','user','text']\n",
    "# encoding_list = ['ascii', 'big5', 'big5hkscs', 'cp037', 'cp273', 'cp424', 'cp437', 'cp500', 'cp720', 'cp737'\n",
    "#                  , 'cp775', 'cp850', 'cp852', 'cp855', 'cp856', 'cp857', 'cp858', 'cp860', 'cp861', 'cp862'\n",
    "#                  , 'cp863', 'cp864', 'cp865', 'cp866', 'cp869', 'cp874', 'cp875', 'cp932', 'cp949', 'cp950'\n",
    "#                  , 'cp1006', 'cp1026', 'cp1125', 'cp1140', 'cp1250', 'cp1251', 'cp1252', 'cp1253', 'cp1254'\n",
    "#                  , 'cp1255', 'cp1256', 'cp1257', 'cp1258', 'euc_jp', 'euc_jis_2004', 'euc_jisx0213', 'euc_kr'\n",
    "#                  , 'gb2312', 'gbk', 'gb18030', 'hz', 'iso2022_jp', 'iso2022_jp_1', 'iso2022_jp_2'\n",
    "#                  , 'iso2022_jp_2004', 'iso2022_jp_3', 'iso2022_jp_ext', 'iso2022_kr', 'latin_1', 'iso8859_2'\n",
    "#                  , 'iso8859_3', 'iso8859_4', 'iso8859_5', 'iso8859_6', 'iso8859_7', 'iso8859_8', 'iso8859_9'\n",
    "#                  , 'iso8859_10', 'iso8859_11', 'iso8859_13', 'iso8859_14', 'iso8859_15', 'iso8859_16', 'johab'\n",
    "#                  , 'koi8_r', 'koi8_t', 'koi8_u', 'kz1048', 'mac_cyrillic', 'mac_greek', 'mac_iceland', 'mac_latin2'\n",
    "#                  , 'mac_roman', 'mac_turkish', 'ptcp154', 'shift_jis', 'shift_jis_2004', 'shift_jisx0213', 'utf_32'\n",
    "#                  , 'utf_32_be', 'utf_32_le', 'utf_16', 'utf_16_be', 'utf_16_le', 'utf_7', 'utf_8', 'utf_8_sig']\n",
    "\n",
    "# for encoding in encoding_list:\n",
    "#     worked = True\n",
    "#     try:\n",
    "#         data = pd.read_csv('training.1600000.processed.noemoticon.csv', encoding=encoding, header=None, names=columns)\n",
    "#         data.columns = ['sentiment', 'id', 'date', 'flag', 'user', 'text']\n",
    "#     except:\n",
    "#         worked = False\n",
    "#     if worked:\n",
    "#         print(encoding, ':\\n', data.head())\n",
    "\n",
    "\n",
    "data = pd.read_csv('training.1600000.processed.noemoticon.csv', encoding='latin-1', header=None)\n",
    "data.columns = ['sentiment', 'id', 'date', 'flag', 'user', 'text']"
   ]
  },
  {
   "cell_type": "code",
<<<<<<< Updated upstream
   "execution_count": 3,
   "id": "be984472",
=======
   "execution_count": 12,
   "id": "dd466104",
   "metadata": {},
   "outputs": [
    {
     "data": {
      "text/plain": [
       "(1600000, 6)"
      ]
     },
     "execution_count": 12,
     "metadata": {},
     "output_type": "execute_result"
    }
   ],
   "source": [
    "df.shape"
   ]
  },
  {
   "cell_type": "code",
   "execution_count": 13,
   "id": "da2cd46a",
>>>>>>> Stashed changes
   "metadata": {},
   "outputs": [
    {
     "data": {
      "text/html": [
       "<div>\n",
       "<style scoped>\n",
       "    .dataframe tbody tr th:only-of-type {\n",
       "        vertical-align: middle;\n",
       "    }\n",
       "\n",
       "    .dataframe tbody tr th {\n",
       "        vertical-align: top;\n",
       "    }\n",
       "\n",
       "    .dataframe thead th {\n",
       "        text-align: right;\n",
       "    }\n",
       "</style>\n",
       "<table border=\"1\" class=\"dataframe\">\n",
       "  <thead>\n",
       "    <tr style=\"text-align: right;\">\n",
       "      <th></th>\n",
       "      <th>sentiment</th>\n",
       "      <th>id</th>\n",
       "      <th>date</th>\n",
       "      <th>flag</th>\n",
       "      <th>user</th>\n",
       "      <th>text</th>\n",
       "    </tr>\n",
       "  </thead>\n",
       "  <tbody>\n",
       "    <tr>\n",
       "      <th>0</th>\n",
       "      <td>0</td>\n",
       "      <td>1467810369</td>\n",
       "      <td>Mon Apr 06 22:19:45 PDT 2009</td>\n",
       "      <td>NO_QUERY</td>\n",
       "      <td>_TheSpecialOne_</td>\n",
       "      <td>@switchfoot http://twitpic.com/2y1zl - Awww, t...</td>\n",
       "    </tr>\n",
       "    <tr>\n",
       "      <th>1</th>\n",
       "      <td>0</td>\n",
       "      <td>1467810672</td>\n",
       "      <td>Mon Apr 06 22:19:49 PDT 2009</td>\n",
       "      <td>NO_QUERY</td>\n",
       "      <td>scotthamilton</td>\n",
       "      <td>is upset that he can't update his Facebook by ...</td>\n",
       "    </tr>\n",
       "    <tr>\n",
       "      <th>2</th>\n",
       "      <td>0</td>\n",
       "      <td>1467810917</td>\n",
       "      <td>Mon Apr 06 22:19:53 PDT 2009</td>\n",
       "      <td>NO_QUERY</td>\n",
       "      <td>mattycus</td>\n",
       "      <td>@Kenichan I dived many times for the ball. Man...</td>\n",
       "    </tr>\n",
       "    <tr>\n",
       "      <th>3</th>\n",
       "      <td>0</td>\n",
       "      <td>1467811184</td>\n",
       "      <td>Mon Apr 06 22:19:57 PDT 2009</td>\n",
       "      <td>NO_QUERY</td>\n",
       "      <td>ElleCTF</td>\n",
       "      <td>my whole body feels itchy and like its on fire</td>\n",
       "    </tr>\n",
       "    <tr>\n",
       "      <th>4</th>\n",
       "      <td>0</td>\n",
       "      <td>1467811193</td>\n",
       "      <td>Mon Apr 06 22:19:57 PDT 2009</td>\n",
       "      <td>NO_QUERY</td>\n",
       "      <td>Karoli</td>\n",
       "      <td>@nationwideclass no, it's not behaving at all....</td>\n",
       "    </tr>\n",
       "  </tbody>\n",
       "</table>\n",
       "</div>"
      ],
      "text/plain": [
       "   sentiment          id                          date      flag  \\\n",
       "0          0  1467810369  Mon Apr 06 22:19:45 PDT 2009  NO_QUERY   \n",
       "1          0  1467810672  Mon Apr 06 22:19:49 PDT 2009  NO_QUERY   \n",
       "2          0  1467810917  Mon Apr 06 22:19:53 PDT 2009  NO_QUERY   \n",
       "3          0  1467811184  Mon Apr 06 22:19:57 PDT 2009  NO_QUERY   \n",
       "4          0  1467811193  Mon Apr 06 22:19:57 PDT 2009  NO_QUERY   \n",
       "\n",
       "              user                                               text  \n",
       "0  _TheSpecialOne_  @switchfoot http://twitpic.com/2y1zl - Awww, t...  \n",
       "1    scotthamilton  is upset that he can't update his Facebook by ...  \n",
       "2         mattycus  @Kenichan I dived many times for the ball. Man...  \n",
       "3          ElleCTF    my whole body feels itchy and like its on fire   \n",
       "4           Karoli  @nationwideclass no, it's not behaving at all....  "
      ]
     },
     "execution_count": 3,
     "metadata": {},
     "output_type": "execute_result"
    }
   ],
   "source": [
    "#Intial dataframe\n",
    "data.head()"
   ]
  },
  {
   "cell_type": "code",
<<<<<<< Updated upstream
   "execution_count": 4,
   "id": "a61cee0d",
=======
   "execution_count": 14,
   "id": "54e40036",
>>>>>>> Stashed changes
   "metadata": {},
   "outputs": [
    {
     "data": {
      "text/html": [
       "<div>\n",
       "<style scoped>\n",
       "    .dataframe tbody tr th:only-of-type {\n",
       "        vertical-align: middle;\n",
       "    }\n",
       "\n",
       "    .dataframe tbody tr th {\n",
       "        vertical-align: top;\n",
       "    }\n",
       "\n",
       "    .dataframe thead th {\n",
       "        text-align: right;\n",
       "    }\n",
       "</style>\n",
       "<table border=\"1\" class=\"dataframe\">\n",
       "  <thead>\n",
       "    <tr style=\"text-align: right;\">\n",
       "      <th></th>\n",
       "      <th>sentiment</th>\n",
       "      <th>id</th>\n",
       "      <th>date</th>\n",
       "      <th>flag</th>\n",
       "      <th>user</th>\n",
       "      <th>text</th>\n",
       "    </tr>\n",
       "  </thead>\n",
       "  <tbody>\n",
       "    <tr>\n",
       "      <th>1599995</th>\n",
       "      <td>4</td>\n",
       "      <td>2193601966</td>\n",
       "      <td>Tue Jun 16 08:40:49 PDT 2009</td>\n",
       "      <td>NO_QUERY</td>\n",
       "      <td>AmandaMarie1028</td>\n",
       "      <td>Just woke up. Having no school is the best fee...</td>\n",
       "    </tr>\n",
       "    <tr>\n",
       "      <th>1599996</th>\n",
       "      <td>4</td>\n",
       "      <td>2193601969</td>\n",
       "      <td>Tue Jun 16 08:40:49 PDT 2009</td>\n",
       "      <td>NO_QUERY</td>\n",
       "      <td>TheWDBoards</td>\n",
       "      <td>TheWDB.com - Very cool to hear old Walt interv...</td>\n",
       "    </tr>\n",
       "    <tr>\n",
       "      <th>1599997</th>\n",
       "      <td>4</td>\n",
       "      <td>2193601991</td>\n",
       "      <td>Tue Jun 16 08:40:49 PDT 2009</td>\n",
       "      <td>NO_QUERY</td>\n",
       "      <td>bpbabe</td>\n",
       "      <td>Are you ready for your MoJo Makeover? Ask me f...</td>\n",
       "    </tr>\n",
       "    <tr>\n",
       "      <th>1599998</th>\n",
       "      <td>4</td>\n",
       "      <td>2193602064</td>\n",
       "      <td>Tue Jun 16 08:40:49 PDT 2009</td>\n",
       "      <td>NO_QUERY</td>\n",
       "      <td>tinydiamondz</td>\n",
       "      <td>Happy 38th Birthday to my boo of alll time!!! ...</td>\n",
       "    </tr>\n",
       "    <tr>\n",
       "      <th>1599999</th>\n",
       "      <td>4</td>\n",
       "      <td>2193602129</td>\n",
       "      <td>Tue Jun 16 08:40:50 PDT 2009</td>\n",
       "      <td>NO_QUERY</td>\n",
       "      <td>RyanTrevMorris</td>\n",
       "      <td>happy #charitytuesday @theNSPCC @SparksCharity...</td>\n",
       "    </tr>\n",
       "  </tbody>\n",
       "</table>\n",
       "</div>"
      ],
      "text/plain": [
       "         sentiment          id                          date      flag  \\\n",
       "1599995          4  2193601966  Tue Jun 16 08:40:49 PDT 2009  NO_QUERY   \n",
       "1599996          4  2193601969  Tue Jun 16 08:40:49 PDT 2009  NO_QUERY   \n",
       "1599997          4  2193601991  Tue Jun 16 08:40:49 PDT 2009  NO_QUERY   \n",
       "1599998          4  2193602064  Tue Jun 16 08:40:49 PDT 2009  NO_QUERY   \n",
       "1599999          4  2193602129  Tue Jun 16 08:40:50 PDT 2009  NO_QUERY   \n",
       "\n",
       "                    user                                               text  \n",
       "1599995  AmandaMarie1028  Just woke up. Having no school is the best fee...  \n",
       "1599996      TheWDBoards  TheWDB.com - Very cool to hear old Walt interv...  \n",
       "1599997           bpbabe  Are you ready for your MoJo Makeover? Ask me f...  \n",
       "1599998     tinydiamondz  Happy 38th Birthday to my boo of alll time!!! ...  \n",
       "1599999   RyanTrevMorris  happy #charitytuesday @theNSPCC @SparksCharity...  "
      ]
     },
     "execution_count": 4,
     "metadata": {},
     "output_type": "execute_result"
    }
   ],
   "source": [
    "data.tail()"
   ]
  },
  {
   "cell_type": "code",
   "execution_count": 5,
   "id": "a692da4e",
   "metadata": {},
   "outputs": [
    {
     "data": {
      "text/plain": [
       "sentiment    0\n",
       "id           0\n",
       "date         0\n",
       "flag         0\n",
       "user         0\n",
       "text         0\n",
       "dtype: int64"
      ]
     },
     "execution_count": 5,
     "metadata": {},
     "output_type": "execute_result"
    }
   ],
   "source": [
    "#Checking for null values\n",
    "data.isnull().sum()"
   ]
  },
  {
   "cell_type": "code",
   "execution_count": 6,
   "id": "34a9871f",
   "metadata": {},
   "outputs": [],
   "source": [
    "# Dropping null values\n",
    "data.dropna(inplace=True)"
   ]
  },
  {
   "cell_type": "code",
   "execution_count": 7,
   "id": "2c9cc655",
   "metadata": {},
   "outputs": [],
   "source": [
    "# Imputing values\n",
    "data['sentiment'] = data['sentiment'].replace(4, 1)"
   ]
  },
  {
   "cell_type": "code",
   "execution_count": 8,
   "id": "8efb1f1d",
   "metadata": {},
   "outputs": [],
   "source": [
    "# Transformations\n",
    "data['text'] = data['text'].apply(lambda x: x.lower())"
   ]
  },
  {
   "cell_type": "code",
   "execution_count": 9,
   "id": "7008e4d0",
   "metadata": {},
   "outputs": [
    {
     "data": {
      "text/html": [
       "<div>\n",
       "<style scoped>\n",
       "    .dataframe tbody tr th:only-of-type {\n",
       "        vertical-align: middle;\n",
       "    }\n",
       "\n",
       "    .dataframe tbody tr th {\n",
       "        vertical-align: top;\n",
       "    }\n",
       "\n",
       "    .dataframe thead th {\n",
       "        text-align: right;\n",
       "    }\n",
       "</style>\n",
       "<table border=\"1\" class=\"dataframe\">\n",
       "  <thead>\n",
       "    <tr style=\"text-align: right;\">\n",
       "      <th></th>\n",
       "      <th>sentiment</th>\n",
       "      <th>id</th>\n",
       "      <th>date</th>\n",
       "      <th>flag</th>\n",
       "      <th>user</th>\n",
       "      <th>text</th>\n",
       "    </tr>\n",
       "  </thead>\n",
       "  <tbody>\n",
       "    <tr>\n",
       "      <th>0</th>\n",
       "      <td>0</td>\n",
       "      <td>1467810369</td>\n",
       "      <td>Mon Apr 06 22:19:45 PDT 2009</td>\n",
       "      <td>NO_QUERY</td>\n",
       "      <td>_TheSpecialOne_</td>\n",
       "      <td>@switchfoot http://twitpic.com/2y1zl - awww, t...</td>\n",
       "    </tr>\n",
       "    <tr>\n",
       "      <th>1</th>\n",
       "      <td>0</td>\n",
       "      <td>1467810672</td>\n",
       "      <td>Mon Apr 06 22:19:49 PDT 2009</td>\n",
       "      <td>NO_QUERY</td>\n",
       "      <td>scotthamilton</td>\n",
       "      <td>is upset that he can't update his facebook by ...</td>\n",
       "    </tr>\n",
       "    <tr>\n",
       "      <th>2</th>\n",
       "      <td>0</td>\n",
       "      <td>1467810917</td>\n",
       "      <td>Mon Apr 06 22:19:53 PDT 2009</td>\n",
       "      <td>NO_QUERY</td>\n",
       "      <td>mattycus</td>\n",
       "      <td>@kenichan i dived many times for the ball. man...</td>\n",
       "    </tr>\n",
       "    <tr>\n",
       "      <th>3</th>\n",
       "      <td>0</td>\n",
       "      <td>1467811184</td>\n",
       "      <td>Mon Apr 06 22:19:57 PDT 2009</td>\n",
       "      <td>NO_QUERY</td>\n",
       "      <td>ElleCTF</td>\n",
       "      <td>my whole body feels itchy and like its on fire</td>\n",
       "    </tr>\n",
       "    <tr>\n",
       "      <th>4</th>\n",
       "      <td>0</td>\n",
       "      <td>1467811193</td>\n",
       "      <td>Mon Apr 06 22:19:57 PDT 2009</td>\n",
       "      <td>NO_QUERY</td>\n",
       "      <td>Karoli</td>\n",
       "      <td>@nationwideclass no, it's not behaving at all....</td>\n",
       "    </tr>\n",
       "  </tbody>\n",
       "</table>\n",
       "</div>"
      ],
      "text/plain": [
       "   sentiment          id                          date      flag  \\\n",
       "0          0  1467810369  Mon Apr 06 22:19:45 PDT 2009  NO_QUERY   \n",
       "1          0  1467810672  Mon Apr 06 22:19:49 PDT 2009  NO_QUERY   \n",
       "2          0  1467810917  Mon Apr 06 22:19:53 PDT 2009  NO_QUERY   \n",
       "3          0  1467811184  Mon Apr 06 22:19:57 PDT 2009  NO_QUERY   \n",
       "4          0  1467811193  Mon Apr 06 22:19:57 PDT 2009  NO_QUERY   \n",
       "\n",
       "              user                                               text  \n",
       "0  _TheSpecialOne_  @switchfoot http://twitpic.com/2y1zl - awww, t...  \n",
       "1    scotthamilton  is upset that he can't update his facebook by ...  \n",
       "2         mattycus  @kenichan i dived many times for the ball. man...  \n",
       "3          ElleCTF    my whole body feels itchy and like its on fire   \n",
       "4           Karoli  @nationwideclass no, it's not behaving at all....  "
      ]
     },
     "execution_count": 9,
     "metadata": {},
     "output_type": "execute_result"
    }
   ],
   "source": [
    "#Cleansed dataframe\n",
    "data.head()"
   ]
  },
  {
   "cell_type": "code",
   "execution_count": 10,
   "id": "ffd6994b",
   "metadata": {},
   "outputs": [
    {
     "name": "stdout",
     "output_type": "stream",
     "text": [
      "Shape of Data Frame: (1600000, 6)\n",
      "Features/Predictors:\n",
      "Index(['id', 'date', 'flag', 'user'], dtype='object')\n",
      "Target Variable:\n",
      "sentiment\n"
     ]
    }
   ],
   "source": [
    "# Displaying shape\n",
    "print('Shape of Data Frame:', data.shape)\n",
    "\n",
    "# Highlighting features/predictors/target variables\n",
    "print('Features/Predictors:')\n",
    "print(data.columns.drop(['sentiment', 'text']))\n",
    "print('Target Variable:')\n",
    "print('sentiment')\n"
   ]
  },
  {
   "cell_type": "code",
   "execution_count": 11,
   "id": "c6c555ba",
   "metadata": {},
   "outputs": [
    {
     "name": "stdout",
     "output_type": "stream",
     "text": [
      "Descriptive Statistics:\n"
     ]
    },
    {
     "data": {
      "text/html": [
       "<div>\n",
       "<style scoped>\n",
       "    .dataframe tbody tr th:only-of-type {\n",
       "        vertical-align: middle;\n",
       "    }\n",
       "\n",
       "    .dataframe tbody tr th {\n",
       "        vertical-align: top;\n",
       "    }\n",
       "\n",
       "    .dataframe thead th {\n",
       "        text-align: right;\n",
       "    }\n",
       "</style>\n",
       "<table border=\"1\" class=\"dataframe\">\n",
       "  <thead>\n",
       "    <tr style=\"text-align: right;\">\n",
       "      <th></th>\n",
       "      <th>sentiment</th>\n",
       "      <th>id</th>\n",
       "      <th>date</th>\n",
       "      <th>flag</th>\n",
       "      <th>user</th>\n",
       "      <th>text</th>\n",
       "    </tr>\n",
       "  </thead>\n",
       "  <tbody>\n",
       "    <tr>\n",
       "      <th>count</th>\n",
       "      <td>1600000.0</td>\n",
       "      <td>1.600000e+06</td>\n",
       "      <td>1600000</td>\n",
       "      <td>1600000</td>\n",
       "      <td>1600000</td>\n",
       "      <td>1600000</td>\n",
       "    </tr>\n",
       "    <tr>\n",
       "      <th>unique</th>\n",
       "      <td>NaN</td>\n",
       "      <td>NaN</td>\n",
       "      <td>774363</td>\n",
       "      <td>1</td>\n",
       "      <td>659775</td>\n",
       "      <td>1577443</td>\n",
       "    </tr>\n",
       "    <tr>\n",
       "      <th>top</th>\n",
       "      <td>NaN</td>\n",
       "      <td>NaN</td>\n",
       "      <td>Mon Jun 15 12:53:14 PDT 2009</td>\n",
       "      <td>NO_QUERY</td>\n",
       "      <td>lost_dog</td>\n",
       "      <td>good morning</td>\n",
       "    </tr>\n",
       "    <tr>\n",
       "      <th>freq</th>\n",
       "      <td>NaN</td>\n",
       "      <td>NaN</td>\n",
       "      <td>20</td>\n",
       "      <td>1600000</td>\n",
       "      <td>549</td>\n",
       "      <td>299</td>\n",
       "    </tr>\n",
       "    <tr>\n",
       "      <th>mean</th>\n",
       "      <td>0.5</td>\n",
       "      <td>1.998818e+09</td>\n",
       "      <td>NaN</td>\n",
       "      <td>NaN</td>\n",
       "      <td>NaN</td>\n",
       "      <td>NaN</td>\n",
       "    </tr>\n",
       "    <tr>\n",
       "      <th>std</th>\n",
       "      <td>0.5</td>\n",
       "      <td>1.935761e+08</td>\n",
       "      <td>NaN</td>\n",
       "      <td>NaN</td>\n",
       "      <td>NaN</td>\n",
       "      <td>NaN</td>\n",
       "    </tr>\n",
       "    <tr>\n",
       "      <th>min</th>\n",
       "      <td>0.0</td>\n",
       "      <td>1.467810e+09</td>\n",
       "      <td>NaN</td>\n",
       "      <td>NaN</td>\n",
       "      <td>NaN</td>\n",
       "      <td>NaN</td>\n",
       "    </tr>\n",
       "    <tr>\n",
       "      <th>25%</th>\n",
       "      <td>0.0</td>\n",
       "      <td>1.956916e+09</td>\n",
       "      <td>NaN</td>\n",
       "      <td>NaN</td>\n",
       "      <td>NaN</td>\n",
       "      <td>NaN</td>\n",
       "    </tr>\n",
       "    <tr>\n",
       "      <th>50%</th>\n",
       "      <td>0.5</td>\n",
       "      <td>2.002102e+09</td>\n",
       "      <td>NaN</td>\n",
       "      <td>NaN</td>\n",
       "      <td>NaN</td>\n",
       "      <td>NaN</td>\n",
       "    </tr>\n",
       "    <tr>\n",
       "      <th>75%</th>\n",
       "      <td>1.0</td>\n",
       "      <td>2.177059e+09</td>\n",
       "      <td>NaN</td>\n",
       "      <td>NaN</td>\n",
       "      <td>NaN</td>\n",
       "      <td>NaN</td>\n",
       "    </tr>\n",
       "    <tr>\n",
       "      <th>max</th>\n",
       "      <td>1.0</td>\n",
       "      <td>2.329206e+09</td>\n",
       "      <td>NaN</td>\n",
       "      <td>NaN</td>\n",
       "      <td>NaN</td>\n",
       "      <td>NaN</td>\n",
       "    </tr>\n",
       "  </tbody>\n",
       "</table>\n",
       "</div>"
      ],
      "text/plain": [
       "        sentiment            id                          date      flag  \\\n",
       "count   1600000.0  1.600000e+06                       1600000   1600000   \n",
       "unique        NaN           NaN                        774363         1   \n",
       "top           NaN           NaN  Mon Jun 15 12:53:14 PDT 2009  NO_QUERY   \n",
       "freq          NaN           NaN                            20   1600000   \n",
       "mean          0.5  1.998818e+09                           NaN       NaN   \n",
       "std           0.5  1.935761e+08                           NaN       NaN   \n",
       "min           0.0  1.467810e+09                           NaN       NaN   \n",
       "25%           0.0  1.956916e+09                           NaN       NaN   \n",
       "50%           0.5  2.002102e+09                           NaN       NaN   \n",
       "75%           1.0  2.177059e+09                           NaN       NaN   \n",
       "max           1.0  2.329206e+09                           NaN       NaN   \n",
       "\n",
       "            user           text  \n",
       "count    1600000        1600000  \n",
       "unique    659775        1577443  \n",
       "top     lost_dog  good morning   \n",
       "freq         549            299  \n",
       "mean         NaN            NaN  \n",
       "std          NaN            NaN  \n",
       "min          NaN            NaN  \n",
       "25%          NaN            NaN  \n",
       "50%          NaN            NaN  \n",
       "75%          NaN            NaN  \n",
       "max          NaN            NaN  "
      ]
     },
     "execution_count": 11,
     "metadata": {},
     "output_type": "execute_result"
    }
   ],
   "source": [
    "# Displaying descriptive statistics\n",
    "print('Descriptive Statistics:')\n",
    "data.describe(include='all')"
   ]
  },
  {
   "cell_type": "code",
   "execution_count": 12,
   "id": "f54f0403",
   "metadata": {},
   "outputs": [
    {
     "data": {
      "image/png": "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\n",
      "text/plain": [
       "<Figure size 432x288 with 1 Axes>"
      ]
     },
     "metadata": {
      "needs_background": "light"
     },
     "output_type": "display_data"
    }
   ],
   "source": [
    "# Count plot of sentiment\n",
    "sns.countplot(x='sentiment', data=data)\n",
    "plt.title('Sentiment Count')\n",
    "plt.show()\n"
   ]
  },
  {
   "cell_type": "code",
   "execution_count": 13,
   "id": "63fa2152",
   "metadata": {},
   "outputs": [],
   "source": [
    "# # Word cloud of text\n",
    "# from wordcloud import WordCloud\n",
    "# wordcloud = WordCloud(width = 800, height = 800, \n",
    "#                 background_color ='white', \n",
    "#                 stopwords = [], \n",
    "#                 min_font_size = 10).generate(' '.join(data['text']))\n",
    "# plt.figure(figsize = (8, 8), facecolor = None) \n",
    "# plt.imshow(wordcloud) \n",
    "# plt.axis(\"off\") \n",
    "# plt.tight_layout(pad = 0) \n",
    "# plt.show() \n"
   ]
  },
  {
   "cell_type": "code",
   "execution_count": 14,
   "id": "f8b2a572",
   "metadata": {},
   "outputs": [],
   "source": [
    "# Splitting the dataset for training and testing\n",
    "X_train, X_test, y_train, y_test = train_test_split(data['text'], data['sentiment'], test_size=0.2, random_state=42)\n",
    "\n",
    "# Vectorizing the training data\n",
    "vectorizer = CountVectorizer()\n",
    "X_train = vectorizer.fit_transform(X_train)\n",
    "\n",
    "# Building the model\n",
    "model = MultinomialNB()\n",
    "model.fit(X_train, y_train)\n",
    "\n",
    "# Making initial prediction\n",
    "X_test = vectorizer.transform(X_test)\n",
    "y_pred = model.predict(X_test)\n"
   ]
  },
  {
   "cell_type": "code",
   "execution_count": 15,
   "id": "88b9e9e8",
   "metadata": {},
   "outputs": [
    {
     "name": "stdout",
     "output_type": "stream",
     "text": [
      "Initial Prediction:\n",
      "[1 0 1 ... 1 0 0]\n"
     ]
    }
   ],
   "source": [
    "# Displaying initial prediction\n",
    "print('Initial Prediction:')\n",
    "print(y_pred)"
   ]
  },
  {
   "cell_type": "code",
   "execution_count": 16,
   "id": "0c877370",
   "metadata": {},
   "outputs": [
    {
     "name": "stdout",
     "output_type": "stream",
     "text": [
      "Confusion Matrix:\n",
      "[[130761  28733]\n",
      " [ 41376 119130]]\n",
      "\n",
      "\n",
      "Classification Report:\n",
      "              precision    recall  f1-score   support\n",
      "\n",
      "           0       0.76      0.82      0.79    159494\n",
      "           1       0.81      0.74      0.77    160506\n",
      "\n",
      "    accuracy                           0.78    320000\n",
      "   macro avg       0.78      0.78      0.78    320000\n",
      "weighted avg       0.78      0.78      0.78    320000\n",
      "\n",
      "\n",
      "\n",
      "Accuracy Score:\n",
      "0.780909375\n",
      "Precision:\n",
      "0.805678229171598\n",
      "Recall:\n",
      "0.7422152442899331\n",
      "F1:\n",
      "0.7726457588149264\n"
     ]
    }
   ],
   "source": [
    "# Evaluate the model\n",
    "print(\"Confusion Matrix:\")\n",
    "print(confusion_matrix(y_test, y_pred))\n",
    "print(\"\\n\")\n",
    "print(\"Classification Report:\")\n",
    "print(classification_report(y_test, y_pred))\n",
    "print(\"\\n\")\n",
    "print(\"Accuracy Score:\")\n",
    "print(accuracy_score(y_test, y_pred))\n",
    "print(\"Precision:\")\n",
    "print(precision_score(y_test, y_pred))\n",
    "print(\"Recall:\")\n",
    "print(recall_score(y_test, y_pred))\n",
    "print(\"F1:\")\n",
    "print(f1_score(y_test, y_pred))"
   ]
  },
  {
   "cell_type": "code",
   "execution_count": null,
   "id": "d8988185",
   "metadata": {},
   "outputs": [],
   "source": []
  },
  {
   "cell_type": "code",
   "execution_count": null,
   "id": "00d52343",
   "metadata": {},
   "outputs": [],
   "source": []
  },
  {
   "cell_type": "code",
   "execution_count": null,
   "id": "cfeec241",
   "metadata": {},
   "outputs": [],
   "source": []
  },
  {
   "cell_type": "code",
   "execution_count": null,
   "id": "22289dab",
   "metadata": {},
   "outputs": [],
   "source": []
  },
  {
   "cell_type": "code",
   "execution_count": null,
   "id": "8030a1b4",
   "metadata": {},
   "outputs": [],
   "source": []
  },
  {
   "cell_type": "code",
   "execution_count": null,
   "id": "0100a54f",
   "metadata": {},
   "outputs": [],
   "source": []
  },
  {
   "cell_type": "code",
   "execution_count": null,
   "id": "ab087272",
   "metadata": {},
   "outputs": [],
   "source": []
  }
 ],
 "metadata": {
  "kernelspec": {
   "display_name": "Python 3 (ipykernel)",
   "language": "python",
   "name": "python3"
  },
  "language_info": {
   "codemirror_mode": {
    "name": "ipython",
    "version": 3
   },
   "file_extension": ".py",
   "mimetype": "text/x-python",
   "name": "python",
   "nbconvert_exporter": "python",
   "pygments_lexer": "ipython3",
   "version": "3.9.12"
  }
 },
 "nbformat": 4,
 "nbformat_minor": 5
}
